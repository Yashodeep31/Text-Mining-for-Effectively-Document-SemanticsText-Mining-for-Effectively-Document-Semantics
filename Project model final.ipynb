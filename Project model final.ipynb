{
 "cells": [
  {
   "cell_type": "code",
   "execution_count": 41,
   "id": "fe4c4071",
   "metadata": {},
   "outputs": [],
   "source": [
    "text = \"\"\"\n",
    "In a statement, G7 countries said they hoped the deal would also work to reduce the price of oil for low- to middle-income countries, “who have felt the impacts of Putin’s war disproportionately”.\n",
    "But questions remain over whether the cap is radical enough to dent Russia’s budget or whether it will only work to lower the price of oil for developing countries. The price of Russia’s most-sold Ural grade oil is now about $50 a barrel.\n",
    "The US said it hoped that third countries would use the cap to demand lower prices from Russia.\n",
    "“Whether these countries purchase energy inside or outside of the cap, the cap will enable them to bargain for steeper discounts on Russian oil and benefit from greater stability in global energy markets,” said the US treasury secretary, Janet Yellen.\n",
    "Yellen added that the Russian budget was stretched thin and the price cap would “immediately cut into Putin’s most important source of revenue”.\n",
    "“We will not accept this cap,” the RIA news agency quoted the Kremlin’s spokesperson, Dmitry Peskov, as saying. He said that Russia would analyse the agreement and respond.\n",
    "On Thursday, Russia’s foreign minister, Sergei Lavrov, said Moscow had dismissed the impact of the price cap and would negotiate with its partners directly.\"\"\""
   ]
  },
  {
   "cell_type": "code",
   "execution_count": 42,
   "id": "ea448794",
   "metadata": {},
   "outputs": [],
   "source": [
    "import spacy\n",
    "from spacy.lang.en.stop_words import STOP_WORDS\n",
    "from string import punctuation"
   ]
  },
  {
   "cell_type": "code",
   "execution_count": 43,
   "id": "a8a361b4",
   "metadata": {},
   "outputs": [],
   "source": [
    "stopwords = list(STOP_WORDS)"
   ]
  },
  {
   "cell_type": "code",
   "execution_count": 44,
   "id": "2ba91716",
   "metadata": {},
   "outputs": [],
   "source": [
    "nlp = spacy.load('en_core_web_sm')"
   ]
  },
  {
   "cell_type": "code",
   "execution_count": 45,
   "id": "39c0217c",
   "metadata": {},
   "outputs": [],
   "source": [
    "doc = nlp(text)"
   ]
  },
  {
   "cell_type": "code",
   "execution_count": 46,
   "id": "c99395cb",
   "metadata": {},
   "outputs": [
    {
     "name": "stdout",
     "output_type": "stream",
     "text": [
      "['\\n', 'In', 'a', 'statement', ',', 'G7', 'countries', 'said', 'they', 'hoped', 'the', 'deal', 'would', 'also', 'work', 'to', 'reduce', 'the', 'price', 'of', 'oil', 'for', 'low-', 'to', 'middle', '-', 'income', 'countries', ',', '“', 'who', 'have', 'felt', 'the', 'impacts', 'of', 'Putin', '’s', 'war', 'disproportionately', '”', '.', '\\n', 'But', 'questions', 'remain', 'over', 'whether', 'the', 'cap', 'is', 'radical', 'enough', 'to', 'dent', 'Russia', '’s', 'budget', 'or', 'whether', 'it', 'will', 'only', 'work', 'to', 'lower', 'the', 'price', 'of', 'oil', 'for', 'developing', 'countries', '.', 'The', 'price', 'of', 'Russia', '’s', 'most', '-', 'sold', 'Ural', 'grade', 'oil', 'is', 'now', 'about', '$', '50', 'a', 'barrel', '.', '\\n', 'The', 'US', 'said', 'it', 'hoped', 'that', 'third', 'countries', 'would', 'use', 'the', 'cap', 'to', 'demand', 'lower', 'prices', 'from', 'Russia', '.', '\\n', '“', 'Whether', 'these', 'countries', 'purchase', 'energy', 'inside', 'or', 'outside', 'of', 'the', 'cap', ',', 'the', 'cap', 'will', 'enable', 'them', 'to', 'bargain', 'for', 'steeper', 'discounts', 'on', 'Russian', 'oil', 'and', 'benefit', 'from', 'greater', 'stability', 'in', 'global', 'energy', 'markets', ',', '”', 'said', 'the', 'US', 'treasury', 'secretary', ',', 'Janet', 'Yellen', '.', '\\n', 'Yellen', 'added', 'that', 'the', 'Russian', 'budget', 'was', 'stretched', 'thin', 'and', 'the', 'price', 'cap', 'would', '“', 'immediately', 'cut', 'into', 'Putin', '’s', 'most', 'important', 'source', 'of', 'revenue', '”', '.', '\\n', '“', 'We', 'will', 'not', 'accept', 'this', 'cap', ',', '”', 'the', 'RIA', 'news', 'agency', 'quoted', 'the', 'Kremlin', '’s', 'spokesperson', ',', 'Dmitry', 'Peskov', ',', 'as', 'saying', '.', 'He', 'said', 'that', 'Russia', 'would', 'analyse', 'the', 'agreement', 'and', 'respond', '.', '\\n', 'On', 'Thursday', ',', 'Russia', '’s', 'foreign', 'minister', ',', 'Sergei', 'Lavrov', ',', 'said', 'Moscow', 'had', 'dismissed', 'the', 'impact', 'of', 'the', 'price', 'cap', 'and', 'would', 'negotiate', 'with', 'its', 'partners', 'directly', '.']\n"
     ]
    }
   ],
   "source": [
    "tokens = [token.text for token in doc]\n",
    "print(tokens)"
   ]
  },
  {
   "cell_type": "code",
   "execution_count": 47,
   "id": "0afc31ee",
   "metadata": {},
   "outputs": [
    {
     "data": {
      "text/plain": [
       "'!\"#$%&\\'()*+,-./:;<=>?@[\\\\]^_`{|}~\\n'"
      ]
     },
     "execution_count": 47,
     "metadata": {},
     "output_type": "execute_result"
    }
   ],
   "source": [
    "punctuation = punctuation + '\\n'\n",
    "punctuation"
   ]
  },
  {
   "cell_type": "code",
   "execution_count": 48,
   "id": "45084f0a",
   "metadata": {},
   "outputs": [
    {
     "name": "stdout",
     "output_type": "stream",
     "text": [
      "{'statement': 1, 'G7': 1, 'countries': 5, 'said': 5, 'hoped': 2, 'deal': 1, 'work': 2, 'reduce': 1, 'price': 5, 'oil': 4, 'low-': 1, 'middle': 1, 'income': 1, '“': 4, 'felt': 1, 'impacts': 1, 'Putin': 2, 'war': 1, 'disproportionately': 1, '”': 4, 'questions': 1, 'remain': 1, 'cap': 7, 'radical': 1, 'dent': 1, 'Russia': 5, 'budget': 2, 'lower': 2, 'developing': 1, 'sold': 1, 'Ural': 1, 'grade': 1, '50': 1, 'barrel': 1, 'use': 1, 'demand': 1, 'prices': 1, 'purchase': 1, 'energy': 2, 'inside': 1, 'outside': 1, 'enable': 1, 'bargain': 1, 'steeper': 1, 'discounts': 1, 'Russian': 2, 'benefit': 1, 'greater': 1, 'stability': 1, 'global': 1, 'markets': 1, 'treasury': 1, 'secretary': 1, 'Janet': 1, 'Yellen': 2, 'added': 1, 'stretched': 1, 'thin': 1, 'immediately': 1, 'cut': 1, 'important': 1, 'source': 1, 'revenue': 1, 'accept': 1, 'RIA': 1, 'news': 1, 'agency': 1, 'quoted': 1, 'Kremlin': 1, 'spokesperson': 1, 'Dmitry': 1, 'Peskov': 1, 'saying': 1, 'analyse': 1, 'agreement': 1, 'respond': 1, 'Thursday': 1, 'foreign': 1, 'minister': 1, 'Sergei': 1, 'Lavrov': 1, 'Moscow': 1, 'dismissed': 1, 'impact': 1, 'negotiate': 1, 'partners': 1, 'directly': 1}\n"
     ]
    }
   ],
   "source": [
    "word_frequencies = {}\n",
    "for word in doc:\n",
    "    if word.text.lower() not in stopwords:\n",
    "        if word.text.lower() not in punctuation:\n",
    "            if word.text not in word_frequencies.keys():\n",
    "                word_frequencies[word.text] = 1\n",
    "            else:\n",
    "                word_frequencies[word.text] += 1\n",
    "                \n",
    "print(word_frequencies)"
   ]
  },
  {
   "cell_type": "code",
   "execution_count": 49,
   "id": "1516bbec",
   "metadata": {},
   "outputs": [
    {
     "data": {
      "text/plain": [
       "7"
      ]
     },
     "execution_count": 49,
     "metadata": {},
     "output_type": "execute_result"
    }
   ],
   "source": [
    "max_frequency = max(word_frequencies.values())\n",
    "max_frequency"
   ]
  },
  {
   "cell_type": "code",
   "execution_count": 50,
   "id": "b085e9bf",
   "metadata": {},
   "outputs": [
    {
     "name": "stdout",
     "output_type": "stream",
     "text": [
      "{'statement': 0.14285714285714285, 'G7': 0.14285714285714285, 'countries': 0.7142857142857143, 'said': 0.7142857142857143, 'hoped': 0.2857142857142857, 'deal': 0.14285714285714285, 'work': 0.2857142857142857, 'reduce': 0.14285714285714285, 'price': 0.7142857142857143, 'oil': 0.5714285714285714, 'low-': 0.14285714285714285, 'middle': 0.14285714285714285, 'income': 0.14285714285714285, '“': 0.5714285714285714, 'felt': 0.14285714285714285, 'impacts': 0.14285714285714285, 'Putin': 0.2857142857142857, 'war': 0.14285714285714285, 'disproportionately': 0.14285714285714285, '”': 0.5714285714285714, 'questions': 0.14285714285714285, 'remain': 0.14285714285714285, 'cap': 1.0, 'radical': 0.14285714285714285, 'dent': 0.14285714285714285, 'Russia': 0.7142857142857143, 'budget': 0.2857142857142857, 'lower': 0.2857142857142857, 'developing': 0.14285714285714285, 'sold': 0.14285714285714285, 'Ural': 0.14285714285714285, 'grade': 0.14285714285714285, '50': 0.14285714285714285, 'barrel': 0.14285714285714285, 'use': 0.14285714285714285, 'demand': 0.14285714285714285, 'prices': 0.14285714285714285, 'purchase': 0.14285714285714285, 'energy': 0.2857142857142857, 'inside': 0.14285714285714285, 'outside': 0.14285714285714285, 'enable': 0.14285714285714285, 'bargain': 0.14285714285714285, 'steeper': 0.14285714285714285, 'discounts': 0.14285714285714285, 'Russian': 0.2857142857142857, 'benefit': 0.14285714285714285, 'greater': 0.14285714285714285, 'stability': 0.14285714285714285, 'global': 0.14285714285714285, 'markets': 0.14285714285714285, 'treasury': 0.14285714285714285, 'secretary': 0.14285714285714285, 'Janet': 0.14285714285714285, 'Yellen': 0.2857142857142857, 'added': 0.14285714285714285, 'stretched': 0.14285714285714285, 'thin': 0.14285714285714285, 'immediately': 0.14285714285714285, 'cut': 0.14285714285714285, 'important': 0.14285714285714285, 'source': 0.14285714285714285, 'revenue': 0.14285714285714285, 'accept': 0.14285714285714285, 'RIA': 0.14285714285714285, 'news': 0.14285714285714285, 'agency': 0.14285714285714285, 'quoted': 0.14285714285714285, 'Kremlin': 0.14285714285714285, 'spokesperson': 0.14285714285714285, 'Dmitry': 0.14285714285714285, 'Peskov': 0.14285714285714285, 'saying': 0.14285714285714285, 'analyse': 0.14285714285714285, 'agreement': 0.14285714285714285, 'respond': 0.14285714285714285, 'Thursday': 0.14285714285714285, 'foreign': 0.14285714285714285, 'minister': 0.14285714285714285, 'Sergei': 0.14285714285714285, 'Lavrov': 0.14285714285714285, 'Moscow': 0.14285714285714285, 'dismissed': 0.14285714285714285, 'impact': 0.14285714285714285, 'negotiate': 0.14285714285714285, 'partners': 0.14285714285714285, 'directly': 0.14285714285714285}\n"
     ]
    }
   ],
   "source": [
    "for word in word_frequencies.keys():\n",
    "    word_frequencies[word] = word_frequencies[word]/max_frequency\n",
    "\n",
    "print(word_frequencies)"
   ]
  },
  {
   "cell_type": "code",
   "execution_count": 51,
   "id": "5a2d586f",
   "metadata": {},
   "outputs": [
    {
     "name": "stdout",
     "output_type": "stream",
     "text": [
      "[\n",
      "In a statement, G7 countries said they hoped the deal would also work to reduce the price of oil for low- to middle-income countries, “who have felt the impacts of Putin’s war disproportionately”.\n",
      ", But questions remain over whether the cap is radical enough to dent Russia’s budget or whether it will only work to lower the price of oil for developing countries., The price of Russia’s most-sold Ural grade oil is now about $50 a barrel.\n",
      ", The US said it hoped that third countries would use the cap to demand lower prices from Russia.\n",
      ", “Whether these countries purchase energy inside or outside of the cap, the cap will enable them to bargain for steeper discounts on Russian oil and benefit from greater stability in global energy markets,” said the US treasury secretary, Janet Yellen.\n",
      ", Yellen added that the Russian budget was stretched thin and the price cap would “immediately cut into Putin’s most important source of revenue”.\n",
      ", “We will not accept this cap,” the RIA news agency quoted the Kremlin’s spokesperson, Dmitry Peskov, as saying., He said that Russia would analyse the agreement and respond.\n",
      ", On Thursday, Russia’s foreign minister, Sergei Lavrov, said Moscow had dismissed the impact of the price cap and would negotiate with its partners directly.]\n"
     ]
    }
   ],
   "source": [
    "sentence_tokens = [sent for sent in doc.sents]\n",
    "print(sentence_tokens)"
   ]
  },
  {
   "cell_type": "code",
   "execution_count": 52,
   "id": "098d4c8e",
   "metadata": {},
   "outputs": [
    {
     "data": {
      "text/plain": [
       "{\n",
       " In a statement, G7 countries said they hoped the deal would also work to reduce the price of oil for low- to middle-income countries, “who have felt the impacts of Putin’s war disproportionately”.: 6.571428571428573,\n",
       " But questions remain over whether the cap is radical enough to dent Russia’s budget or whether it will only work to lower the price of oil for developing countries.: 4.57142857142857,\n",
       " The price of Russia’s most-sold Ural grade oil is now about $50 a barrel.: 1.857142857142857,\n",
       " The US said it hoped that third countries would use the cap to demand lower prices from Russia.: 3.4285714285714284,\n",
       " “Whether these countries purchase energy inside or outside of the cap, the cap will enable them to bargain for steeper discounts on Russian oil and benefit from greater stability in global energy markets,” said the US treasury secretary, Janet Yellen.: 7.714285714285717,\n",
       " Yellen added that the Russian budget was stretched thin and the price cap would “immediately cut into Putin’s most important source of revenue”.: 4.285714285714286,\n",
       " “We will not accept this cap,” the RIA news agency quoted the Kremlin’s spokesperson, Dmitry Peskov, as saying.: 2.9999999999999996,\n",
       " He said that Russia would analyse the agreement and respond.: 1.1428571428571428,\n",
       " On Thursday, Russia’s foreign minister, Sergei Lavrov, said Moscow had dismissed the impact of the price cap and would negotiate with its partners directly.: 3.4285714285714284}"
      ]
     },
     "execution_count": 52,
     "metadata": {},
     "output_type": "execute_result"
    }
   ],
   "source": [
    "sentence_scores = {}\n",
    "for sent in sentence_tokens:\n",
    "    for word in sent:\n",
    "        if word.text.lower() in word_frequencies.keys():\n",
    "            if sent not in sentence_scores.keys():\n",
    "                sentence_scores[sent] = word_frequencies[word.text.lower()]\n",
    "            else:\n",
    "                sentence_scores[sent] += word_frequencies[word.text.lower()]\n",
    "                \n",
    "sentence_scores"
   ]
  },
  {
   "cell_type": "code",
   "execution_count": 53,
   "id": "29274dd2",
   "metadata": {},
   "outputs": [],
   "source": [
    "from heapq import nlargest"
   ]
  },
  {
   "cell_type": "code",
   "execution_count": 54,
   "id": "e5bfeac3",
   "metadata": {},
   "outputs": [
    {
     "data": {
      "text/plain": [
       "2"
      ]
     },
     "execution_count": 54,
     "metadata": {},
     "output_type": "execute_result"
    }
   ],
   "source": [
    "select_length = int(len(sentence_tokens)*0.3)\n",
    "select_length"
   ]
  },
  {
   "cell_type": "code",
   "execution_count": 55,
   "id": "0bb8ac23",
   "metadata": {},
   "outputs": [
    {
     "data": {
      "text/plain": [
       "[“Whether these countries purchase energy inside or outside of the cap, the cap will enable them to bargain for steeper discounts on Russian oil and benefit from greater stability in global energy markets,” said the US treasury secretary, Janet Yellen.,\n",
       " \n",
       " In a statement, G7 countries said they hoped the deal would also work to reduce the price of oil for low- to middle-income countries, “who have felt the impacts of Putin’s war disproportionately”.]"
      ]
     },
     "execution_count": 55,
     "metadata": {},
     "output_type": "execute_result"
    }
   ],
   "source": [
    "summary = nlargest(select_length, sentence_scores, key = sentence_scores.get)\n",
    "summary"
   ]
  },
  {
   "cell_type": "code",
   "execution_count": 56,
   "id": "17657917",
   "metadata": {},
   "outputs": [],
   "source": [
    "final_summary = [word.text for word in summary]\n",
    "summary = ' '.join(final_summary)"
   ]
  },
  {
   "cell_type": "code",
   "execution_count": 57,
   "id": "7743ef9e",
   "metadata": {},
   "outputs": [
    {
     "name": "stdout",
     "output_type": "stream",
     "text": [
      "\n",
      "In a statement, G7 countries said they hoped the deal would also work to reduce the price of oil for low- to middle-income countries, “who have felt the impacts of Putin’s war disproportionately”.\n",
      "But questions remain over whether the cap is radical enough to dent Russia’s budget or whether it will only work to lower the price of oil for developing countries. The price of Russia’s most-sold Ural grade oil is now about $50 a barrel.\n",
      "The US said it hoped that third countries would use the cap to demand lower prices from Russia.\n",
      "“Whether these countries purchase energy inside or outside of the cap, the cap will enable them to bargain for steeper discounts on Russian oil and benefit from greater stability in global energy markets,” said the US treasury secretary, Janet Yellen.\n",
      "Yellen added that the Russian budget was stretched thin and the price cap would “immediately cut into Putin’s most important source of revenue”.\n",
      "“We will not accept this cap,” the RIA news agency quoted the Kremlin’s spokesperson, Dmitry Peskov, as saying. He said that Russia would analyse the agreement and respond.\n",
      "On Thursday, Russia’s foreign minister, Sergei Lavrov, said Moscow had dismissed the impact of the price cap and would negotiate with its partners directly.\n"
     ]
    }
   ],
   "source": [
    "print(text)"
   ]
  },
  {
   "cell_type": "code",
   "execution_count": 58,
   "id": "a9fc4324",
   "metadata": {},
   "outputs": [
    {
     "name": "stdout",
     "output_type": "stream",
     "text": [
      "“Whether these countries purchase energy inside or outside of the cap, the cap will enable them to bargain for steeper discounts on Russian oil and benefit from greater stability in global energy markets,” said the US treasury secretary, Janet Yellen.\n",
      " \n",
      "In a statement, G7 countries said they hoped the deal would also work to reduce the price of oil for low- to middle-income countries, “who have felt the impacts of Putin’s war disproportionately”.\n",
      "\n"
     ]
    }
   ],
   "source": [
    "print(summary)"
   ]
  },
  {
   "cell_type": "code",
   "execution_count": 59,
   "id": "cd2087ae",
   "metadata": {},
   "outputs": [
    {
     "data": {
      "text/plain": [
       "1259"
      ]
     },
     "execution_count": 59,
     "metadata": {},
     "output_type": "execute_result"
    }
   ],
   "source": [
    "len(text)"
   ]
  },
  {
   "cell_type": "code",
   "execution_count": 60,
   "id": "8f423523",
   "metadata": {},
   "outputs": [
    {
     "data": {
      "text/plain": [
       "451"
      ]
     },
     "execution_count": 60,
     "metadata": {},
     "output_type": "execute_result"
    }
   ],
   "source": [
    "len(summary)"
   ]
  },
  {
   "cell_type": "code",
   "execution_count": null,
   "id": "c3016599",
   "metadata": {},
   "outputs": [],
   "source": []
  }
 ],
 "metadata": {
  "kernelspec": {
   "display_name": "Python 3.10.0 64-bit",
   "language": "python",
   "name": "python3"
  },
  "language_info": {
   "codemirror_mode": {
    "name": "ipython",
    "version": 3
   },
   "file_extension": ".py",
   "mimetype": "text/x-python",
   "name": "python",
   "nbconvert_exporter": "python",
   "pygments_lexer": "ipython3",
   "version": "3.10.0"
  },
  "vscode": {
   "interpreter": {
    "hash": "7b8010462263293495e30a15d919ffa21e4893169e8292360990c436edd2864c"
   }
  }
 },
 "nbformat": 4,
 "nbformat_minor": 5
}
